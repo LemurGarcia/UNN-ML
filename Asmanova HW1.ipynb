{
 "cells": [
  {
   "cell_type": "markdown",
   "metadata": {},
   "source": [
    "## Описание датасета\n",
    "База данных о детях (их семьях, родителях и т.д.) для ранжирования заявок в детские сады.\n",
    "Входные данные:\n",
    "\n",
    "Parents\n",
    "\n",
    "Has Nurse\n",
    "\n",
    "Form\n",
    "\n",
    "Children\n",
    "\n",
    "Housing\n",
    "\n",
    "Finance\n",
    "\n",
    "Social\n",
    "\n",
    "Health\n",
    "\n",
    "Выходной параметр:\n",
    "\n",
    "CLASS"
   ]
  },
  {
   "cell_type": "code",
   "execution_count": 14,
   "metadata": {
    "collapsed": true
   },
   "outputs": [],
   "source": [
    "import numpy as np\n",
    "import matplotlib.pyplot as plt\n",
    "import pandas as pd\n",
    "import sklearn as sk\n",
    "%matplotlib inline"
   ]
  },
  {
   "cell_type": "code",
   "execution_count": 15,
   "metadata": {
    "collapsed": false
   },
   "outputs": [],
   "source": [
    "data = pd.read_csv('nursery.csv', header=None, sep = ',')\n",
    "data.columns = ['Parents', 'Has Nurse', 'Form', 'Children', 'Housing', 'Finance', 'Social', 'Health', 'CLASS']"
   ]
  },
  {
   "cell_type": "code",
   "execution_count": 16,
   "metadata": {
    "collapsed": false
   },
   "outputs": [
    {
     "data": {
      "text/html": [
       "<div>\n",
       "<table border=\"1\" class=\"dataframe\">\n",
       "  <thead>\n",
       "    <tr style=\"text-align: right;\">\n",
       "      <th></th>\n",
       "      <th>Parents</th>\n",
       "      <th>Has Nurse</th>\n",
       "      <th>Form</th>\n",
       "      <th>Children</th>\n",
       "      <th>Housing</th>\n",
       "      <th>Finance</th>\n",
       "      <th>Social</th>\n",
       "      <th>Health</th>\n",
       "      <th>CLASS</th>\n",
       "    </tr>\n",
       "  </thead>\n",
       "  <tbody>\n",
       "    <tr>\n",
       "      <th>0</th>\n",
       "      <td>usual</td>\n",
       "      <td>proper</td>\n",
       "      <td>complete</td>\n",
       "      <td>1</td>\n",
       "      <td>convenient</td>\n",
       "      <td>convenient</td>\n",
       "      <td>nonprob</td>\n",
       "      <td>recommended</td>\n",
       "      <td>recommend</td>\n",
       "    </tr>\n",
       "    <tr>\n",
       "      <th>1</th>\n",
       "      <td>usual</td>\n",
       "      <td>proper</td>\n",
       "      <td>complete</td>\n",
       "      <td>1</td>\n",
       "      <td>convenient</td>\n",
       "      <td>convenient</td>\n",
       "      <td>nonprob</td>\n",
       "      <td>priority</td>\n",
       "      <td>priority</td>\n",
       "    </tr>\n",
       "    <tr>\n",
       "      <th>2</th>\n",
       "      <td>usual</td>\n",
       "      <td>proper</td>\n",
       "      <td>complete</td>\n",
       "      <td>1</td>\n",
       "      <td>convenient</td>\n",
       "      <td>convenient</td>\n",
       "      <td>nonprob</td>\n",
       "      <td>not_recom</td>\n",
       "      <td>not_recom</td>\n",
       "    </tr>\n",
       "    <tr>\n",
       "      <th>3</th>\n",
       "      <td>usual</td>\n",
       "      <td>proper</td>\n",
       "      <td>complete</td>\n",
       "      <td>1</td>\n",
       "      <td>convenient</td>\n",
       "      <td>convenient</td>\n",
       "      <td>slightly_prob</td>\n",
       "      <td>recommended</td>\n",
       "      <td>recommend</td>\n",
       "    </tr>\n",
       "    <tr>\n",
       "      <th>4</th>\n",
       "      <td>usual</td>\n",
       "      <td>proper</td>\n",
       "      <td>complete</td>\n",
       "      <td>1</td>\n",
       "      <td>convenient</td>\n",
       "      <td>convenient</td>\n",
       "      <td>slightly_prob</td>\n",
       "      <td>priority</td>\n",
       "      <td>priority</td>\n",
       "    </tr>\n",
       "  </tbody>\n",
       "</table>\n",
       "</div>"
      ],
      "text/plain": [
       "  Parents Has Nurse      Form Children     Housing     Finance         Social  \\\n",
       "0   usual    proper  complete        1  convenient  convenient        nonprob   \n",
       "1   usual    proper  complete        1  convenient  convenient        nonprob   \n",
       "2   usual    proper  complete        1  convenient  convenient        nonprob   \n",
       "3   usual    proper  complete        1  convenient  convenient  slightly_prob   \n",
       "4   usual    proper  complete        1  convenient  convenient  slightly_prob   \n",
       "\n",
       "        Health      CLASS  \n",
       "0  recommended  recommend  \n",
       "1     priority   priority  \n",
       "2    not_recom  not_recom  \n",
       "3  recommended  recommend  \n",
       "4     priority   priority  "
      ]
     },
     "execution_count": 16,
     "metadata": {},
     "output_type": "execute_result"
    }
   ],
   "source": [
    "data.head()"
   ]
  },
  {
   "cell_type": "markdown",
   "metadata": {},
   "source": [
    "Выше - начало таблицы с данными, ниже - конец."
   ]
  },
  {
   "cell_type": "code",
   "execution_count": 17,
   "metadata": {
    "collapsed": false
   },
   "outputs": [
    {
     "data": {
      "text/html": [
       "<div>\n",
       "<table border=\"1\" class=\"dataframe\">\n",
       "  <thead>\n",
       "    <tr style=\"text-align: right;\">\n",
       "      <th></th>\n",
       "      <th>Parents</th>\n",
       "      <th>Has Nurse</th>\n",
       "      <th>Form</th>\n",
       "      <th>Children</th>\n",
       "      <th>Housing</th>\n",
       "      <th>Finance</th>\n",
       "      <th>Social</th>\n",
       "      <th>Health</th>\n",
       "      <th>CLASS</th>\n",
       "    </tr>\n",
       "  </thead>\n",
       "  <tbody>\n",
       "    <tr>\n",
       "      <th>12955</th>\n",
       "      <td>great_pret</td>\n",
       "      <td>very_crit</td>\n",
       "      <td>foster</td>\n",
       "      <td>more</td>\n",
       "      <td>critical</td>\n",
       "      <td>inconv</td>\n",
       "      <td>slightly_prob</td>\n",
       "      <td>priority</td>\n",
       "      <td>spec_prior</td>\n",
       "    </tr>\n",
       "    <tr>\n",
       "      <th>12956</th>\n",
       "      <td>great_pret</td>\n",
       "      <td>very_crit</td>\n",
       "      <td>foster</td>\n",
       "      <td>more</td>\n",
       "      <td>critical</td>\n",
       "      <td>inconv</td>\n",
       "      <td>slightly_prob</td>\n",
       "      <td>not_recom</td>\n",
       "      <td>not_recom</td>\n",
       "    </tr>\n",
       "    <tr>\n",
       "      <th>12957</th>\n",
       "      <td>great_pret</td>\n",
       "      <td>very_crit</td>\n",
       "      <td>foster</td>\n",
       "      <td>more</td>\n",
       "      <td>critical</td>\n",
       "      <td>inconv</td>\n",
       "      <td>problematic</td>\n",
       "      <td>recommended</td>\n",
       "      <td>spec_prior</td>\n",
       "    </tr>\n",
       "    <tr>\n",
       "      <th>12958</th>\n",
       "      <td>great_pret</td>\n",
       "      <td>very_crit</td>\n",
       "      <td>foster</td>\n",
       "      <td>more</td>\n",
       "      <td>critical</td>\n",
       "      <td>inconv</td>\n",
       "      <td>problematic</td>\n",
       "      <td>priority</td>\n",
       "      <td>spec_prior</td>\n",
       "    </tr>\n",
       "    <tr>\n",
       "      <th>12959</th>\n",
       "      <td>great_pret</td>\n",
       "      <td>very_crit</td>\n",
       "      <td>foster</td>\n",
       "      <td>more</td>\n",
       "      <td>critical</td>\n",
       "      <td>inconv</td>\n",
       "      <td>problematic</td>\n",
       "      <td>not_recom</td>\n",
       "      <td>not_recom</td>\n",
       "    </tr>\n",
       "  </tbody>\n",
       "</table>\n",
       "</div>"
      ],
      "text/plain": [
       "          Parents  Has Nurse    Form Children   Housing Finance  \\\n",
       "12955  great_pret  very_crit  foster     more  critical  inconv   \n",
       "12956  great_pret  very_crit  foster     more  critical  inconv   \n",
       "12957  great_pret  very_crit  foster     more  critical  inconv   \n",
       "12958  great_pret  very_crit  foster     more  critical  inconv   \n",
       "12959  great_pret  very_crit  foster     more  critical  inconv   \n",
       "\n",
       "              Social       Health       CLASS  \n",
       "12955  slightly_prob     priority  spec_prior  \n",
       "12956  slightly_prob    not_recom   not_recom  \n",
       "12957    problematic  recommended  spec_prior  \n",
       "12958    problematic     priority  spec_prior  \n",
       "12959    problematic    not_recom   not_recom  "
      ]
     },
     "execution_count": 17,
     "metadata": {},
     "output_type": "execute_result"
    }
   ],
   "source": [
    "data.tail()"
   ]
  },
  {
   "cell_type": "code",
   "execution_count": 18,
   "metadata": {
    "collapsed": false
   },
   "outputs": [
    {
     "name": "stdout",
     "output_type": "stream",
     "text": [
      "(12960, 9)\n"
     ]
    }
   ],
   "source": [
    "print(data.shape)"
   ]
  },
  {
   "cell_type": "code",
   "execution_count": 19,
   "metadata": {
    "collapsed": false
   },
   "outputs": [
    {
     "name": "stdout",
     "output_type": "stream",
     "text": [
      "<class 'pandas.core.frame.DataFrame'>\n",
      "Int64Index: 12960 entries, 0 to 12959\n",
      "Data columns (total 9 columns):\n",
      "Parents      12960 non-null object\n",
      "Has Nurse    12960 non-null object\n",
      "Form         12960 non-null object\n",
      "Children     12960 non-null object\n",
      "Housing      12960 non-null object\n",
      "Finance      12960 non-null object\n",
      "Social       12960 non-null object\n",
      "Health       12960 non-null object\n",
      "CLASS        12960 non-null object\n",
      "dtypes: object(9)\n",
      "memory usage: 1012.5+ KB\n"
     ]
    }
   ],
   "source": [
    "data.info()"
   ]
  },
  {
   "cell_type": "markdown",
   "metadata": {},
   "source": [
    "Статистические характеристики. Так как все признаки категориальные, не увидим привычных mean std и т.д. Пустых ячеек в датасете нет, поэтому count везде одинаковое."
   ]
  },
  {
   "cell_type": "code",
   "execution_count": 20,
   "metadata": {
    "collapsed": false
   },
   "outputs": [
    {
     "data": {
      "text/html": [
       "<div>\n",
       "<table border=\"1\" class=\"dataframe\">\n",
       "  <thead>\n",
       "    <tr style=\"text-align: right;\">\n",
       "      <th></th>\n",
       "      <th>Parents</th>\n",
       "      <th>Has Nurse</th>\n",
       "      <th>Form</th>\n",
       "      <th>Children</th>\n",
       "      <th>Housing</th>\n",
       "      <th>Finance</th>\n",
       "      <th>Social</th>\n",
       "      <th>Health</th>\n",
       "      <th>CLASS</th>\n",
       "    </tr>\n",
       "  </thead>\n",
       "  <tbody>\n",
       "    <tr>\n",
       "      <th>count</th>\n",
       "      <td>12960</td>\n",
       "      <td>12960</td>\n",
       "      <td>12960</td>\n",
       "      <td>12960</td>\n",
       "      <td>12960</td>\n",
       "      <td>12960</td>\n",
       "      <td>12960</td>\n",
       "      <td>12960</td>\n",
       "      <td>12960</td>\n",
       "    </tr>\n",
       "    <tr>\n",
       "      <th>unique</th>\n",
       "      <td>3</td>\n",
       "      <td>5</td>\n",
       "      <td>4</td>\n",
       "      <td>4</td>\n",
       "      <td>3</td>\n",
       "      <td>2</td>\n",
       "      <td>3</td>\n",
       "      <td>3</td>\n",
       "      <td>5</td>\n",
       "    </tr>\n",
       "    <tr>\n",
       "      <th>top</th>\n",
       "      <td>usual</td>\n",
       "      <td>improper</td>\n",
       "      <td>incomplete</td>\n",
       "      <td>1</td>\n",
       "      <td>convenient</td>\n",
       "      <td>convenient</td>\n",
       "      <td>problematic</td>\n",
       "      <td>not_recom</td>\n",
       "      <td>not_recom</td>\n",
       "    </tr>\n",
       "    <tr>\n",
       "      <th>freq</th>\n",
       "      <td>4320</td>\n",
       "      <td>2592</td>\n",
       "      <td>3240</td>\n",
       "      <td>3240</td>\n",
       "      <td>4320</td>\n",
       "      <td>6480</td>\n",
       "      <td>4320</td>\n",
       "      <td>4320</td>\n",
       "      <td>4320</td>\n",
       "    </tr>\n",
       "  </tbody>\n",
       "</table>\n",
       "</div>"
      ],
      "text/plain": [
       "       Parents Has Nurse        Form Children     Housing     Finance  \\\n",
       "count    12960     12960       12960    12960       12960       12960   \n",
       "unique       3         5           4        4           3           2   \n",
       "top      usual  improper  incomplete        1  convenient  convenient   \n",
       "freq      4320      2592        3240     3240        4320        6480   \n",
       "\n",
       "             Social     Health      CLASS  \n",
       "count         12960      12960      12960  \n",
       "unique            3          3          5  \n",
       "top     problematic  not_recom  not_recom  \n",
       "freq           4320       4320       4320  "
      ]
     },
     "execution_count": 20,
     "metadata": {},
     "output_type": "execute_result"
    }
   ],
   "source": [
    "data.describe()"
   ]
  },
  {
   "cell_type": "code",
   "execution_count": 21,
   "metadata": {
    "collapsed": false
   },
   "outputs": [],
   "source": [
    "classes = {'not_recom': 1, 'recommend': 2, 'very_recom': 3, 'priority': 4, 'spec_prior': 5 }\n",
    "y = [classes[item] for item in data['CLASS']]\n",
    "data = data.drop('CLASS', axis=1)"
   ]
  },
  {
   "cell_type": "markdown",
   "metadata": {},
   "source": [
    "Векторизация. Отдельно выделим бинарные признаки (binary_columns)"
   ]
  },
  {
   "cell_type": "code",
   "execution_count": 22,
   "metadata": {
    "collapsed": false
   },
   "outputs": [
    {
     "name": "stdout",
     "output_type": "stream",
     "text": [
      "['Parents', 'Has Nurse', 'Form', 'Children', 'Housing', 'Finance', 'Social', 'Health']\n",
      "[]\n",
      "['Finance'] ['Parents', 'Has Nurse', 'Form', 'Children', 'Housing', 'Social', 'Health']\n"
     ]
    }
   ],
   "source": [
    "categorical_columns = [i for i in data.columns if data[i].dtype.name == 'object']\n",
    "print(categorical_columns)\n",
    "numerical_columns   = [i for i in data.columns if data[i].dtype.name != 'object']\n",
    "print(numerical_columns) #тут будет пусто\n",
    "data_describe = data.describe(include = [object])\n",
    "binary_columns = [c for c in categorical_columns if data_describe[c]['unique'] == 2]\n",
    "nonbinary_columns = [c for c in categorical_columns if data_describe[c]['unique'] > 2]\n",
    "print(binary_columns, nonbinary_columns)"
   ]
  },
  {
   "cell_type": "code",
   "execution_count": 23,
   "metadata": {
    "collapsed": false
   },
   "outputs": [
    {
     "data": {
      "text/html": [
       "<div>\n",
       "<table border=\"1\" class=\"dataframe\">\n",
       "  <thead>\n",
       "    <tr style=\"text-align: right;\">\n",
       "      <th></th>\n",
       "      <th>Parents_great_pret</th>\n",
       "      <th>Parents_pretentious</th>\n",
       "      <th>Parents_usual</th>\n",
       "      <th>Has Nurse_critical</th>\n",
       "      <th>Has Nurse_improper</th>\n",
       "      <th>Has Nurse_less_proper</th>\n",
       "      <th>Has Nurse_proper</th>\n",
       "      <th>Has Nurse_very_crit</th>\n",
       "      <th>Form_complete</th>\n",
       "      <th>Form_completed</th>\n",
       "      <th>...</th>\n",
       "      <th>Housing_critical</th>\n",
       "      <th>Housing_less_conv</th>\n",
       "      <th>Finance_convenient</th>\n",
       "      <th>Finance_inconv</th>\n",
       "      <th>Social_nonprob</th>\n",
       "      <th>Social_problematic</th>\n",
       "      <th>Social_slightly_prob</th>\n",
       "      <th>Health_not_recom</th>\n",
       "      <th>Health_priority</th>\n",
       "      <th>Health_recommended</th>\n",
       "    </tr>\n",
       "  </thead>\n",
       "  <tbody>\n",
       "    <tr>\n",
       "      <th>0</th>\n",
       "      <td>0</td>\n",
       "      <td>0</td>\n",
       "      <td>1</td>\n",
       "      <td>0</td>\n",
       "      <td>0</td>\n",
       "      <td>0</td>\n",
       "      <td>1</td>\n",
       "      <td>0</td>\n",
       "      <td>1</td>\n",
       "      <td>0</td>\n",
       "      <td>...</td>\n",
       "      <td>0</td>\n",
       "      <td>0</td>\n",
       "      <td>1</td>\n",
       "      <td>0</td>\n",
       "      <td>1</td>\n",
       "      <td>0</td>\n",
       "      <td>0</td>\n",
       "      <td>0</td>\n",
       "      <td>0</td>\n",
       "      <td>1</td>\n",
       "    </tr>\n",
       "    <tr>\n",
       "      <th>1</th>\n",
       "      <td>0</td>\n",
       "      <td>0</td>\n",
       "      <td>1</td>\n",
       "      <td>0</td>\n",
       "      <td>0</td>\n",
       "      <td>0</td>\n",
       "      <td>1</td>\n",
       "      <td>0</td>\n",
       "      <td>1</td>\n",
       "      <td>0</td>\n",
       "      <td>...</td>\n",
       "      <td>0</td>\n",
       "      <td>0</td>\n",
       "      <td>1</td>\n",
       "      <td>0</td>\n",
       "      <td>1</td>\n",
       "      <td>0</td>\n",
       "      <td>0</td>\n",
       "      <td>0</td>\n",
       "      <td>1</td>\n",
       "      <td>0</td>\n",
       "    </tr>\n",
       "    <tr>\n",
       "      <th>2</th>\n",
       "      <td>0</td>\n",
       "      <td>0</td>\n",
       "      <td>1</td>\n",
       "      <td>0</td>\n",
       "      <td>0</td>\n",
       "      <td>0</td>\n",
       "      <td>1</td>\n",
       "      <td>0</td>\n",
       "      <td>1</td>\n",
       "      <td>0</td>\n",
       "      <td>...</td>\n",
       "      <td>0</td>\n",
       "      <td>0</td>\n",
       "      <td>1</td>\n",
       "      <td>0</td>\n",
       "      <td>1</td>\n",
       "      <td>0</td>\n",
       "      <td>0</td>\n",
       "      <td>1</td>\n",
       "      <td>0</td>\n",
       "      <td>0</td>\n",
       "    </tr>\n",
       "    <tr>\n",
       "      <th>3</th>\n",
       "      <td>0</td>\n",
       "      <td>0</td>\n",
       "      <td>1</td>\n",
       "      <td>0</td>\n",
       "      <td>0</td>\n",
       "      <td>0</td>\n",
       "      <td>1</td>\n",
       "      <td>0</td>\n",
       "      <td>1</td>\n",
       "      <td>0</td>\n",
       "      <td>...</td>\n",
       "      <td>0</td>\n",
       "      <td>0</td>\n",
       "      <td>1</td>\n",
       "      <td>0</td>\n",
       "      <td>0</td>\n",
       "      <td>0</td>\n",
       "      <td>1</td>\n",
       "      <td>0</td>\n",
       "      <td>0</td>\n",
       "      <td>1</td>\n",
       "    </tr>\n",
       "    <tr>\n",
       "      <th>4</th>\n",
       "      <td>0</td>\n",
       "      <td>0</td>\n",
       "      <td>1</td>\n",
       "      <td>0</td>\n",
       "      <td>0</td>\n",
       "      <td>0</td>\n",
       "      <td>1</td>\n",
       "      <td>0</td>\n",
       "      <td>1</td>\n",
       "      <td>0</td>\n",
       "      <td>...</td>\n",
       "      <td>0</td>\n",
       "      <td>0</td>\n",
       "      <td>1</td>\n",
       "      <td>0</td>\n",
       "      <td>0</td>\n",
       "      <td>0</td>\n",
       "      <td>1</td>\n",
       "      <td>0</td>\n",
       "      <td>1</td>\n",
       "      <td>0</td>\n",
       "    </tr>\n",
       "  </tbody>\n",
       "</table>\n",
       "<p>5 rows × 27 columns</p>\n",
       "</div>"
      ],
      "text/plain": [
       "   Parents_great_pret  Parents_pretentious  Parents_usual  Has Nurse_critical  \\\n",
       "0                   0                    0              1                   0   \n",
       "1                   0                    0              1                   0   \n",
       "2                   0                    0              1                   0   \n",
       "3                   0                    0              1                   0   \n",
       "4                   0                    0              1                   0   \n",
       "\n",
       "   Has Nurse_improper  Has Nurse_less_proper  Has Nurse_proper  \\\n",
       "0                   0                      0                 1   \n",
       "1                   0                      0                 1   \n",
       "2                   0                      0                 1   \n",
       "3                   0                      0                 1   \n",
       "4                   0                      0                 1   \n",
       "\n",
       "   Has Nurse_very_crit  Form_complete  Form_completed         ...          \\\n",
       "0                    0              1               0         ...           \n",
       "1                    0              1               0         ...           \n",
       "2                    0              1               0         ...           \n",
       "3                    0              1               0         ...           \n",
       "4                    0              1               0         ...           \n",
       "\n",
       "   Housing_critical  Housing_less_conv  Finance_convenient  Finance_inconv  \\\n",
       "0                 0                  0                   1               0   \n",
       "1                 0                  0                   1               0   \n",
       "2                 0                  0                   1               0   \n",
       "3                 0                  0                   1               0   \n",
       "4                 0                  0                   1               0   \n",
       "\n",
       "   Social_nonprob  Social_problematic  Social_slightly_prob  Health_not_recom  \\\n",
       "0               1                   0                     0                 0   \n",
       "1               1                   0                     0                 0   \n",
       "2               1                   0                     0                 1   \n",
       "3               0                   0                     1                 0   \n",
       "4               0                   0                     1                 0   \n",
       "\n",
       "   Health_priority  Health_recommended  \n",
       "0                0                   1  \n",
       "1                1                   0  \n",
       "2                0                   0  \n",
       "3                0                   1  \n",
       "4                1                   0  \n",
       "\n",
       "[5 rows x 27 columns]"
      ]
     },
     "execution_count": 23,
     "metadata": {},
     "output_type": "execute_result"
    }
   ],
   "source": [
    "new_data = pd.get_dummies(data[categorical_columns])\n",
    "#new_data.head()\n",
    "#data = pd.concat((data_nonbinary, data[binary_columns]), axis = 0)\n",
    "data = data.drop(categorical_columns, axis=1)\n",
    "data = data.join(new_data)\n",
    "data.head()"
   ]
  },
  {
   "cell_type": "code",
   "execution_count": 24,
   "metadata": {
    "collapsed": false
   },
   "outputs": [],
   "source": [
    "numerical_columns   = [i for i in data.columns if data[i].dtype.name != 'object']\n",
    "data_numerical = data[numerical_columns]\n",
    "data_numerical = (data_numerical - data_numerical.mean(axis = 0))/data_numerical.std(axis = 0)"
   ]
  },
  {
   "cell_type": "markdown",
   "metadata": {},
   "source": [
    "## Метод К ближайших соседей"
   ]
  },
  {
   "cell_type": "code",
   "execution_count": 25,
   "metadata": {
    "collapsed": false
   },
   "outputs": [
    {
     "name": "stdout",
     "output_type": "stream",
     "text": [
      "ololo:  3888 9072\n"
     ]
    }
   ],
   "source": [
    "x = data\n",
    "\n",
    "from sklearn.model_selection import train_test_split\n",
    "x_train, x_test, y_train, y_test = train_test_split(x, y, test_size = 0.3, random_state = 33)\n",
    "\n",
    "size_train, _ = x_train.shape \n",
    "size_test,  _ = x_test.shape \n",
    "\n",
    "print('ololo: ', size_test, size_train)"
   ]
  },
  {
   "cell_type": "code",
   "execution_count": 26,
   "metadata": {
    "collapsed": false
   },
   "outputs": [
    {
     "name": "stdout",
     "output_type": "stream",
     "text": [
      "errors:  0.0 0.188014403292\n",
      "0.0486111111111 7\n",
      "0.0259038800705 0.0434670781893\n"
     ]
    },
    {
     "name": "stderr",
     "output_type": "stream",
     "text": [
      "C:\\Users\\Aarven\\Anaconda3\\lib\\site-packages\\sklearn\\model_selection\\_split.py:597: Warning: The least populated class in y has only 2 members, which is too few. The minimum number of members in any class cannot be less than n_splits=4.\n",
      "  % (min_groups, self.n_splits)), Warning)\n"
     ]
    }
   ],
   "source": [
    "from sklearn.neighbors import KNeighborsClassifier\n",
    "k = 1\n",
    "knn = KNeighborsClassifier(n_neighbors = k)\n",
    "knn.fit(x_train, y_train)\n",
    "\n",
    "y_train_predict = knn.predict(x_train)\n",
    "y_test_predict = knn.predict(x_test)\n",
    "\n",
    "err_train = np.mean(y_train != y_train_predict)\n",
    "err_test  = np.mean(y_test  != y_test_predict)\n",
    "\n",
    "print('errors: ',err_train, err_test)\n",
    "\n",
    "from sklearn.model_selection import GridSearchCV\n",
    "k = range(1,8)\n",
    "knn = KNeighborsClassifier()\n",
    "grid = GridSearchCV(knn, param_grid = {'n_neighbors': k}, cv=4)\n",
    "grid.fit(x_train, y_train)\n",
    "\n",
    "best_cv_err = 1 - grid.best_score_\n",
    "best_k = grid.best_estimator_.n_neighbors\n",
    "print(best_cv_err, best_k)\n",
    "\n",
    "\n",
    "knn = KNeighborsClassifier(n_neighbors = best_k).fit(x_train, y_train)\n",
    "\n",
    "err_train = np.mean(y_train != knn.predict(x_train))\n",
    "err_test  = np.mean(y_test  != knn.predict(x_test))\n",
    "\n",
    "print(err_train, err_test)"
   ]
  }
 ],
 "metadata": {
  "kernelspec": {
   "display_name": "Python 3",
   "language": "python",
   "name": "python3"
  },
  "language_info": {
   "codemirror_mode": {
    "name": "ipython",
    "version": 3
   },
   "file_extension": ".py",
   "mimetype": "text/x-python",
   "name": "python",
   "nbconvert_exporter": "python",
   "pygments_lexer": "ipython3",
   "version": "3.5.0"
  }
 },
 "nbformat": 4,
 "nbformat_minor": 0
}
